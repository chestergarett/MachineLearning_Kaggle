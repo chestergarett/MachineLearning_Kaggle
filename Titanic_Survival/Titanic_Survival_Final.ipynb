{
 "cells": [
  {
   "cell_type": "code",
   "execution_count": 2,
   "id": "c74af7e0",
   "metadata": {},
   "outputs": [],
   "source": [
    "import numpy as np\n",
    "import pandas as pd\n",
    "import matplotlib.pyplot as plt\n",
    "import seaborn as sns"
   ]
  },
  {
   "cell_type": "code",
   "execution_count": 5,
   "id": "b38bf299",
   "metadata": {},
   "outputs": [],
   "source": [
    "sample_data = pd.read_csv(r'data/gender_submission.csv')\n",
    "training_data = pd.read_csv(r'data/train.csv')\n",
    "testing_data = pd.read_csv(r'data/test.csv')"
   ]
  },
  {
   "cell_type": "code",
   "execution_count": 9,
   "id": "c1b5d1db",
   "metadata": {},
   "outputs": [
    {
     "data": {
      "text/plain": [
       "Index(['PassengerId', 'Survived', 'Pclass', 'Name', 'Sex', 'Age', 'SibSp',\n",
       "       'Parch', 'Ticket', 'Fare', 'Cabin', 'Embarked'],\n",
       "      dtype='object')"
      ]
     },
     "execution_count": 9,
     "metadata": {},
     "output_type": "execute_result"
    }
   ],
   "source": [
    "training_data.columns"
   ]
  },
  {
   "cell_type": "code",
   "execution_count": 10,
   "id": "21c8d6e5",
   "metadata": {},
   "outputs": [
    {
     "data": {
      "text/plain": [
       "Index(['PassengerId', 'Pclass', 'Name', 'Sex', 'Age', 'SibSp', 'Parch',\n",
       "       'Ticket', 'Fare', 'Cabin', 'Embarked'],\n",
       "      dtype='object')"
      ]
     },
     "execution_count": 10,
     "metadata": {},
     "output_type": "execute_result"
    }
   ],
   "source": [
    "testing_data.columns"
   ]
  },
  {
   "cell_type": "code",
   "execution_count": 12,
   "id": "ebfc8546",
   "metadata": {},
   "outputs": [
    {
     "data": {
      "text/plain": [
       "12"
      ]
     },
     "execution_count": 12,
     "metadata": {},
     "output_type": "execute_result"
    }
   ],
   "source": [
    "len(training_data.columns)"
   ]
  },
  {
   "cell_type": "code",
   "execution_count": 13,
   "id": "bf1bf146",
   "metadata": {},
   "outputs": [
    {
     "data": {
      "text/plain": [
       "11"
      ]
     },
     "execution_count": 13,
     "metadata": {},
     "output_type": "execute_result"
    }
   ],
   "source": [
    "len(testing_data.columns)"
   ]
  },
  {
   "cell_type": "code",
   "execution_count": 14,
   "id": "f2910077",
   "metadata": {},
   "outputs": [],
   "source": [
    "### COMBINE DATAFRAMES for 1 feature engineering\n",
    "training_data['train_test_identifier'] = 1\n",
    "testing_data['train_test_identifier'] = 0"
   ]
  },
  {
   "cell_type": "code",
   "execution_count": 18,
   "id": "7bf772d6",
   "metadata": {},
   "outputs": [],
   "source": [
    "all_data = pd.concat([training_data,testing_data])"
   ]
  },
  {
   "cell_type": "code",
   "execution_count": 20,
   "id": "a0962731",
   "metadata": {},
   "outputs": [
    {
     "name": "stdout",
     "output_type": "stream",
     "text": [
      "<class 'pandas.core.frame.DataFrame'>\n",
      "Int64Index: 1309 entries, 0 to 417\n",
      "Data columns (total 13 columns):\n",
      " #   Column                 Non-Null Count  Dtype  \n",
      "---  ------                 --------------  -----  \n",
      " 0   PassengerId            1309 non-null   int64  \n",
      " 1   Survived               891 non-null    float64\n",
      " 2   Pclass                 1309 non-null   int64  \n",
      " 3   Name                   1309 non-null   object \n",
      " 4   Sex                    1309 non-null   object \n",
      " 5   Age                    1046 non-null   float64\n",
      " 6   SibSp                  1309 non-null   int64  \n",
      " 7   Parch                  1309 non-null   int64  \n",
      " 8   Ticket                 1309 non-null   object \n",
      " 9   Fare                   1308 non-null   float64\n",
      " 10  Cabin                  295 non-null    object \n",
      " 11  Embarked               1307 non-null   object \n",
      " 12  train_test_identifier  1309 non-null   int64  \n",
      "dtypes: float64(3), int64(5), object(5)\n",
      "memory usage: 143.2+ KB\n"
     ]
    }
   ],
   "source": [
    "all_data.info()"
   ]
  },
  {
   "cell_type": "code",
   "execution_count": 21,
   "id": "328abdc3",
   "metadata": {},
   "outputs": [
    {
     "data": {
      "text/plain": [
       "1    891\n",
       "0    418\n",
       "Name: train_test_identifier, dtype: int64"
      ]
     },
     "execution_count": 21,
     "metadata": {},
     "output_type": "execute_result"
    }
   ],
   "source": [
    "all_data.train_test_identifier.value_counts()"
   ]
  },
  {
   "cell_type": "code",
   "execution_count": 25,
   "id": "f58a12a4",
   "metadata": {},
   "outputs": [],
   "source": [
    "###clean the age column"
   ]
  },
  {
   "cell_type": "code",
   "execution_count": 35,
   "id": "e7c374ba",
   "metadata": {},
   "outputs": [
    {
     "data": {
      "image/png": "[encoded data removed]",
      "text/plain": [
       "<Figure size 1000x300 with 1 Axes>"
      ]
     },
     "metadata": {
      "needs_background": "light"
     },
     "output_type": "display_data"
    }
   ],
   "source": [
    "plt.figure(figsize=(10,3),dpi=100)\n",
    "sns.countplot(data=training_data, x='Age')\n",
    "plt.xticks(rotation=90);"
   ]
  },
  {
   "cell_type": "code",
   "execution_count": 47,
   "id": "a69218e4",
   "metadata": {},
   "outputs": [
    {
     "name": "stdout",
     "output_type": "stream",
     "text": [
      "<class 'pandas.core.frame.DataFrame'>\n",
      "Int64Index: 1309 entries, 0 to 417\n",
      "Data columns (total 13 columns):\n",
      " #   Column                 Non-Null Count  Dtype  \n",
      "---  ------                 --------------  -----  \n",
      " 0   PassengerId            1309 non-null   int64  \n",
      " 1   Survived               891 non-null    float64\n",
      " 2   Pclass                 1309 non-null   int64  \n",
      " 3   Name                   1309 non-null   object \n",
      " 4   Sex                    1309 non-null   object \n",
      " 5   Age                    1309 non-null   float64\n",
      " 6   SibSp                  1309 non-null   int64  \n",
      " 7   Parch                  1309 non-null   int64  \n",
      " 8   Ticket                 1309 non-null   object \n",
      " 9   Fare                   1308 non-null   float64\n",
      " 10  Cabin                  295 non-null    object \n",
      " 11  Embarked               1307 non-null   object \n",
      " 12  train_test_identifier  1309 non-null   int64  \n",
      "dtypes: float64(3), int64(5), object(5)\n",
      "memory usage: 143.2+ KB\n"
     ]
    }
   ],
   "source": [
    "median_age = training_data.Age.median()\n",
    "all_data.Age = all_data.Age.fillna(median_age)\n",
    "all_data.info()"
   ]
  },
  {
   "cell_type": "code",
   "execution_count": 58,
   "id": "b74d7eaf",
   "metadata": {},
   "outputs": [],
   "source": [
    "### clean the embarked column\n",
    "all_data = all_data.dropna(subset=['Embarked'])"
   ]
  },
  {
   "cell_type": "code",
   "execution_count": 61,
   "id": "c22b8067",
   "metadata": {},
   "outputs": [
    {
     "name": "stdout",
     "output_type": "stream",
     "text": [
      "<class 'pandas.core.frame.DataFrame'>\n",
      "Int64Index: 1307 entries, 0 to 417\n",
      "Data columns (total 13 columns):\n",
      " #   Column                 Non-Null Count  Dtype  \n",
      "---  ------                 --------------  -----  \n",
      " 0   PassengerId            1307 non-null   int64  \n",
      " 1   Survived               889 non-null    float64\n",
      " 2   Pclass                 1307 non-null   int64  \n",
      " 3   Name                   1307 non-null   object \n",
      " 4   Sex                    1307 non-null   object \n",
      " 5   Age                    1307 non-null   float64\n",
      " 6   SibSp                  1307 non-null   int64  \n",
      " 7   Parch                  1307 non-null   int64  \n",
      " 8   Ticket                 1307 non-null   object \n",
      " 9   Fare                   1306 non-null   float64\n",
      " 10  Cabin                  293 non-null    object \n",
      " 11  Embarked               1307 non-null   object \n",
      " 12  train_test_identifier  1307 non-null   int64  \n",
      "dtypes: float64(3), int64(5), object(5)\n",
      "memory usage: 175.2+ KB\n"
     ]
    }
   ],
   "source": [
    "all_data.info()"
   ]
  },
  {
   "cell_type": "code",
   "execution_count": 92,
   "id": "f178e717",
   "metadata": {},
   "outputs": [],
   "source": [
    "### clean cabin column\n",
    "all_data.Cabin = all_data.Cabin.fillna('n')\n",
    "all_data.Cabin = all_data.Cabin.str.replace('F ','')\n",
    "all_data.Cabin = all_data.Cabin.str[0]"
   ]
  },
  {
   "cell_type": "code",
   "execution_count": 93,
   "id": "c87a5ffc",
   "metadata": {},
   "outputs": [
    {
     "name": "stdout",
     "output_type": "stream",
     "text": [
      "<class 'pandas.core.frame.DataFrame'>\n",
      "Int64Index: 1307 entries, 0 to 417\n",
      "Data columns (total 13 columns):\n",
      " #   Column                 Non-Null Count  Dtype  \n",
      "---  ------                 --------------  -----  \n",
      " 0   PassengerId            1307 non-null   int64  \n",
      " 1   Survived               889 non-null    float64\n",
      " 2   Pclass                 1307 non-null   int64  \n",
      " 3   Name                   1307 non-null   object \n",
      " 4   Sex                    1307 non-null   object \n",
      " 5   Age                    1307 non-null   float64\n",
      " 6   SibSp                  1307 non-null   int64  \n",
      " 7   Parch                  1307 non-null   int64  \n",
      " 8   Ticket                 1307 non-null   object \n",
      " 9   Fare                   1306 non-null   float64\n",
      " 10  Cabin                  1307 non-null   object \n",
      " 11  Embarked               1307 non-null   object \n",
      " 12  train_test_identifier  1307 non-null   int64  \n",
      "dtypes: float64(3), int64(5), object(5)\n",
      "memory usage: 175.2+ KB\n"
     ]
    }
   ],
   "source": [
    "all_data.info()"
   ]
  },
  {
   "cell_type": "code",
   "execution_count": 97,
   "id": "07f6c9ac",
   "metadata": {},
   "outputs": [
    {
     "name": "stderr",
     "output_type": "stream",
     "text": [
      "/Users/chestergarettcalingacion/opt/anaconda3/lib/python3.8/site-packages/pandas/core/generic.py:5494: SettingWithCopyWarning: \n",
      "A value is trying to be set on a copy of a slice from a DataFrame.\n",
      "Try using .loc[row_indexer,col_indexer] = value instead\n",
      "\n",
      "See the caveats in the documentation: https://pandas.pydata.org/pandas-docs/stable/user_guide/indexing.html#returning-a-view-versus-a-copy\n",
      "  self[name] = value\n"
     ]
    }
   ],
   "source": [
    "#clean fair column\n",
    "fare = all_data.Fare.median()\n",
    "all_data.Fare = all_data.Fare.fillna(fare)\n",
    "all_data.Fare = np.log(all_data.Fare+1)"
   ]
  },
  {
   "cell_type": "code",
   "execution_count": 108,
   "id": "bb7bcc6f",
   "metadata": {},
   "outputs": [],
   "source": [
    "#clean the name column\n",
    "all_data.Name = all_data.Name.str.partition(', ')[2].str.partition(' ')[0]"
   ]
  },
  {
   "cell_type": "code",
   "execution_count": 121,
   "id": "2e352b70",
   "metadata": {},
   "outputs": [],
   "source": [
    "training_data_final = all_data[all_data.train_test_identifier==1]\n",
    "testing_data_final = all_data[all_data.train_test_identifier==0]"
   ]
  },
  {
   "cell_type": "code",
   "execution_count": 126,
   "id": "85174831",
   "metadata": {},
   "outputs": [],
   "source": [
    "X = training_data_final.drop(['PassengerId','Survived','train_test_identifier'],axis=1)\n",
    "X = pd.get_dummies(X)\n",
    "y = training_data_final['Survived']"
   ]
  },
  {
   "cell_type": "code",
   "execution_count": 129,
   "id": "041ec056",
   "metadata": {},
   "outputs": [],
   "source": [
    "### MODEL BUILDING"
   ]
  },
  {
   "cell_type": "code",
   "execution_count": null,
   "id": "32851fad",
   "metadata": {},
   "outputs": [],
   "source": []
  }
 ],
 "metadata": {
  "kernelspec": {
   "display_name": "Python 3",
   "language": "python",
   "name": "python3"
  },
  "language_info": {
   "codemirror_mode": {
    "name": "ipython",
    "version": 3
   },
   "file_extension": ".py",
   "mimetype": "text/x-python",
   "name": "python",
   "nbconvert_exporter": "python",
   "pygments_lexer": "ipython3",
   "version": "3.8.8"
  }
 },
 "nbformat": 4,
 "nbformat_minor": 5
}
